{
 "cells": [
  {
   "cell_type": "markdown",
   "metadata": {
    "slideshow": {
     "slide_type": "slide"
    }
   },
   "source": [
    "# FordGoBike 2018FY"
   ]
  },
  {
   "cell_type": "markdown",
   "metadata": {
    "slideshow": {
     "slide_type": "slide"
    }
   },
   "source": [
    "##### by Milind Singh"
   ]
  },
  {
   "cell_type": "markdown",
   "metadata": {
    "slideshow": {
     "slide_type": "slide"
    }
   },
   "source": [
    "## Table of Contents\n",
    "<ol>\n",
    "    <li><a href=\"#Introduction\">Introduction</a></li>\n",
    "    <li><a href=\"#Gathering Data\">Gathering Data</a></li>\n",
    "    <li><a href=\"#Assessing Data\">Assessing Data</a></li>\n",
    "    <li><a href=\"#Cleaning Data\">Cleaning Data</a></li>\n",
    "    <li><a href=\"#Univariate Exploration\">Univariate Exploration</a></li>\n",
    "    <li><a href=\"#Bivariate Exploration\">Bivariate Exploration</a></li>\n",
    "    <li><a href=\"#Multivariate Exploration\">Multivariate Exploration</a></li>\n",
    "    <li><a href=\"#Conclusions\">Conclusions</a></li>\n",
    "</ol>"
   ]
  },
  {
   "cell_type": "markdown",
   "metadata": {
    "slideshow": {
     "slide_type": "slide"
    }
   },
   "source": [
    "<a id='Introduction'></a>\n",
    "# Introduction"
   ]
  },
  {
   "cell_type": "markdown",
   "metadata": {
    "slideshow": {
     "slide_type": "slide"
    }
   },
   "source": [
    "> Ford GoBike is the Bay Area's bike share system. Bay Area Bike Share was introduced in 2013 as a pilot program for the region, with 700 bikes and 70 stations across San Francisco and San Jose. Once expansion is complete, Ford GoBike will grow to 7,000 bikes across San Francisco, the East Bay and San Jose.\n",
    "\n",
    ">The bikes are available for use 24 hours/day, 7 days/week, 365 days/year and riders have access to all bikes in the network when they become a member or purchase a pass."
   ]
  },
  {
   "cell_type": "markdown",
   "metadata": {
    "slideshow": {
     "slide_type": "skip"
    }
   },
   "source": [
    "<a id='Gathering Data'></a>\n",
    "# 1 . Gathering Data"
   ]
  },
  {
   "cell_type": "code",
   "execution_count": 1,
   "metadata": {
    "slideshow": {
     "slide_type": "skip"
    }
   },
   "outputs": [],
   "source": [
    "# import all packages\n",
    "import numpy as np\n",
    "import pandas as pd\n",
    "import matplotlib.pyplot as plt\n",
    "import seaborn as sns\n",
    "import datetime\n",
    "\n",
    "import glob\n",
    "import os\n",
    "\n",
    "%matplotlib inline"
   ]
  },
  {
   "cell_type": "code",
   "execution_count": 33,
   "metadata": {
    "slideshow": {
     "slide_type": "skip"
    }
   },
   "outputs": [],
   "source": [
    "path = r'C:\\Users\\Milind\\Documents\\Nanodegree\\Data Analyst\\Assignment 5\\fordgobike'\n",
    "files = glob.glob(os.path.join(path, \"*.csv\"))\n"
   ]
  },
  {
   "cell_type": "code",
   "execution_count": 34,
   "metadata": {
    "slideshow": {
     "slide_type": "skip"
    }
   },
   "outputs": [],
   "source": [
    "df = pd.concat((pd.read_csv(f) for f in files), ignore_index = True)\n",
    "df.to_csv('fordgo_master.csv', index = False)"
   ]
  },
  {
   "cell_type": "code",
   "execution_count": 35,
   "metadata": {
    "slideshow": {
     "slide_type": "skip"
    }
   },
   "outputs": [],
   "source": [
    "master = pd.read_csv('fordgo_master.csv')"
   ]
  },
  {
   "cell_type": "markdown",
   "metadata": {
    "slideshow": {
     "slide_type": "skip"
    }
   },
   "source": [
    "<a id='Assessing Data'></a>\n",
    "# 2. Assessing Data"
   ]
  },
  {
   "cell_type": "code",
   "execution_count": 38,
   "metadata": {
    "scrolled": true,
    "slideshow": {
     "slide_type": "skip"
    }
   },
   "outputs": [
    {
     "data": {
      "text/html": [
       "<div>\n",
       "<style scoped>\n",
       "    .dataframe tbody tr th:only-of-type {\n",
       "        vertical-align: middle;\n",
       "    }\n",
       "\n",
       "    .dataframe tbody tr th {\n",
       "        vertical-align: top;\n",
       "    }\n",
       "\n",
       "    .dataframe thead th {\n",
       "        text-align: right;\n",
       "    }\n",
       "</style>\n",
       "<table border=\"1\" class=\"dataframe\">\n",
       "  <thead>\n",
       "    <tr style=\"text-align: right;\">\n",
       "      <th></th>\n",
       "      <th>duration_sec</th>\n",
       "      <th>start_time</th>\n",
       "      <th>end_time</th>\n",
       "      <th>start_station_id</th>\n",
       "      <th>start_station_name</th>\n",
       "      <th>start_station_latitude</th>\n",
       "      <th>start_station_longitude</th>\n",
       "      <th>end_station_id</th>\n",
       "      <th>end_station_name</th>\n",
       "      <th>end_station_latitude</th>\n",
       "      <th>end_station_longitude</th>\n",
       "      <th>bike_id</th>\n",
       "      <th>user_type</th>\n",
       "      <th>bike_share_for_all_trip</th>\n",
       "    </tr>\n",
       "  </thead>\n",
       "  <tbody>\n",
       "    <tr>\n",
       "      <th>1744899</th>\n",
       "      <td>330</td>\n",
       "      <td>2018-12-27 18:28:20.0040</td>\n",
       "      <td>2018-12-27 18:33:50.7060</td>\n",
       "      <td>19.0</td>\n",
       "      <td>Post St at Kearny St</td>\n",
       "      <td>37.788975</td>\n",
       "      <td>-122.403452</td>\n",
       "      <td>15.0</td>\n",
       "      <td>San Francisco Ferry Building (Harry Bridges Pl...</td>\n",
       "      <td>37.795392</td>\n",
       "      <td>-122.394203</td>\n",
       "      <td>5561</td>\n",
       "      <td>Subscriber</td>\n",
       "      <td>No</td>\n",
       "    </tr>\n",
       "    <tr>\n",
       "      <th>146113</th>\n",
       "      <td>396</td>\n",
       "      <td>2018-02-14 09:26:57.2880</td>\n",
       "      <td>2018-02-14 09:33:33.7370</td>\n",
       "      <td>173.0</td>\n",
       "      <td>Shattuck Ave at 55th Ave</td>\n",
       "      <td>37.840364</td>\n",
       "      <td>-122.264488</td>\n",
       "      <td>176.0</td>\n",
       "      <td>MacArthur BART Station</td>\n",
       "      <td>37.828410</td>\n",
       "      <td>-122.266315</td>\n",
       "      <td>1037</td>\n",
       "      <td>Customer</td>\n",
       "      <td>No</td>\n",
       "    </tr>\n",
       "    <tr>\n",
       "      <th>254169</th>\n",
       "      <td>2327</td>\n",
       "      <td>2018-03-18 21:34:16.4140</td>\n",
       "      <td>2018-03-18 22:13:03.9890</td>\n",
       "      <td>176.0</td>\n",
       "      <td>MacArthur BART Station</td>\n",
       "      <td>37.828410</td>\n",
       "      <td>-122.266315</td>\n",
       "      <td>176.0</td>\n",
       "      <td>MacArthur BART Station</td>\n",
       "      <td>37.828410</td>\n",
       "      <td>-122.266315</td>\n",
       "      <td>300</td>\n",
       "      <td>Customer</td>\n",
       "      <td>No</td>\n",
       "    </tr>\n",
       "    <tr>\n",
       "      <th>446642</th>\n",
       "      <td>696</td>\n",
       "      <td>2018-05-31 17:07:46.1540</td>\n",
       "      <td>2018-05-31 17:19:23.0190</td>\n",
       "      <td>15.0</td>\n",
       "      <td>San Francisco Ferry Building (Harry Bridges Pl...</td>\n",
       "      <td>37.795392</td>\n",
       "      <td>-122.394203</td>\n",
       "      <td>49.0</td>\n",
       "      <td>S Park St at 3rd St</td>\n",
       "      <td>37.780760</td>\n",
       "      <td>-122.394989</td>\n",
       "      <td>526</td>\n",
       "      <td>Subscriber</td>\n",
       "      <td>No</td>\n",
       "    </tr>\n",
       "    <tr>\n",
       "      <th>1733023</th>\n",
       "      <td>1372</td>\n",
       "      <td>2018-12-31 17:10:38.5310</td>\n",
       "      <td>2018-12-31 17:33:30.6980</td>\n",
       "      <td>19.0</td>\n",
       "      <td>Post St at Kearny St</td>\n",
       "      <td>37.788975</td>\n",
       "      <td>-122.403452</td>\n",
       "      <td>133.0</td>\n",
       "      <td>Valencia St at 22nd St</td>\n",
       "      <td>37.755213</td>\n",
       "      <td>-122.420975</td>\n",
       "      <td>4744</td>\n",
       "      <td>Subscriber</td>\n",
       "      <td>No</td>\n",
       "    </tr>\n",
       "    <tr>\n",
       "      <th>961684</th>\n",
       "      <td>322</td>\n",
       "      <td>2018-07-10 18:31:32.3210</td>\n",
       "      <td>2018-07-10 18:36:55.0950</td>\n",
       "      <td>242.0</td>\n",
       "      <td>Milvia St at Derby St</td>\n",
       "      <td>37.860125</td>\n",
       "      <td>-122.269384</td>\n",
       "      <td>274.0</td>\n",
       "      <td>Oregon St at Adeline St</td>\n",
       "      <td>37.857567</td>\n",
       "      <td>-122.267558</td>\n",
       "      <td>1512</td>\n",
       "      <td>Subscriber</td>\n",
       "      <td>No</td>\n",
       "    </tr>\n",
       "    <tr>\n",
       "      <th>649397</th>\n",
       "      <td>1638</td>\n",
       "      <td>2018-06-27 08:18:22.3190</td>\n",
       "      <td>2018-06-27 08:45:40.5740</td>\n",
       "      <td>145.0</td>\n",
       "      <td>29th St at Church St</td>\n",
       "      <td>37.743684</td>\n",
       "      <td>-122.426806</td>\n",
       "      <td>21.0</td>\n",
       "      <td>Montgomery St BART Station (Market St at 2nd St)</td>\n",
       "      <td>37.789625</td>\n",
       "      <td>-122.400811</td>\n",
       "      <td>2929</td>\n",
       "      <td>Subscriber</td>\n",
       "      <td>No</td>\n",
       "    </tr>\n",
       "    <tr>\n",
       "      <th>545230</th>\n",
       "      <td>413</td>\n",
       "      <td>2018-05-14 16:17:34.3580</td>\n",
       "      <td>2018-05-14 16:24:27.7810</td>\n",
       "      <td>218.0</td>\n",
       "      <td>DeFremery Park</td>\n",
       "      <td>37.812331</td>\n",
       "      <td>-122.285171</td>\n",
       "      <td>160.0</td>\n",
       "      <td>West Oakland BART Station</td>\n",
       "      <td>37.805318</td>\n",
       "      <td>-122.294837</td>\n",
       "      <td>167</td>\n",
       "      <td>Subscriber</td>\n",
       "      <td>No</td>\n",
       "    </tr>\n",
       "    <tr>\n",
       "      <th>674907</th>\n",
       "      <td>577</td>\n",
       "      <td>2018-06-23 11:54:41.7970</td>\n",
       "      <td>2018-06-23 12:04:19.3490</td>\n",
       "      <td>127.0</td>\n",
       "      <td>Valencia St at 21st St</td>\n",
       "      <td>37.756708</td>\n",
       "      <td>-122.421025</td>\n",
       "      <td>58.0</td>\n",
       "      <td>Market St at 10th St</td>\n",
       "      <td>37.776619</td>\n",
       "      <td>-122.417385</td>\n",
       "      <td>2728</td>\n",
       "      <td>Subscriber</td>\n",
       "      <td>No</td>\n",
       "    </tr>\n",
       "    <tr>\n",
       "      <th>468636</th>\n",
       "      <td>393</td>\n",
       "      <td>2018-05-27 22:11:51.1860</td>\n",
       "      <td>2018-05-27 22:18:24.2690</td>\n",
       "      <td>247.0</td>\n",
       "      <td>Fulton St at Bancroft Way</td>\n",
       "      <td>37.867789</td>\n",
       "      <td>-122.265896</td>\n",
       "      <td>239.0</td>\n",
       "      <td>Bancroft Way at Telegraph Ave</td>\n",
       "      <td>37.868813</td>\n",
       "      <td>-122.258764</td>\n",
       "      <td>425</td>\n",
       "      <td>Subscriber</td>\n",
       "      <td>No</td>\n",
       "    </tr>\n",
       "  </tbody>\n",
       "</table>\n",
       "</div>"
      ],
      "text/plain": [
       "         duration_sec                start_time                  end_time  \\\n",
       "1744899           330  2018-12-27 18:28:20.0040  2018-12-27 18:33:50.7060   \n",
       "146113            396  2018-02-14 09:26:57.2880  2018-02-14 09:33:33.7370   \n",
       "254169           2327  2018-03-18 21:34:16.4140  2018-03-18 22:13:03.9890   \n",
       "446642            696  2018-05-31 17:07:46.1540  2018-05-31 17:19:23.0190   \n",
       "1733023          1372  2018-12-31 17:10:38.5310  2018-12-31 17:33:30.6980   \n",
       "961684            322  2018-07-10 18:31:32.3210  2018-07-10 18:36:55.0950   \n",
       "649397           1638  2018-06-27 08:18:22.3190  2018-06-27 08:45:40.5740   \n",
       "545230            413  2018-05-14 16:17:34.3580  2018-05-14 16:24:27.7810   \n",
       "674907            577  2018-06-23 11:54:41.7970  2018-06-23 12:04:19.3490   \n",
       "468636            393  2018-05-27 22:11:51.1860  2018-05-27 22:18:24.2690   \n",
       "\n",
       "         start_station_id                                 start_station_name  \\\n",
       "1744899              19.0                               Post St at Kearny St   \n",
       "146113              173.0                           Shattuck Ave at 55th Ave   \n",
       "254169              176.0                             MacArthur BART Station   \n",
       "446642               15.0  San Francisco Ferry Building (Harry Bridges Pl...   \n",
       "1733023              19.0                               Post St at Kearny St   \n",
       "961684              242.0                              Milvia St at Derby St   \n",
       "649397              145.0                               29th St at Church St   \n",
       "545230              218.0                                     DeFremery Park   \n",
       "674907              127.0                             Valencia St at 21st St   \n",
       "468636              247.0                          Fulton St at Bancroft Way   \n",
       "\n",
       "         start_station_latitude  start_station_longitude  end_station_id  \\\n",
       "1744899               37.788975              -122.403452            15.0   \n",
       "146113                37.840364              -122.264488           176.0   \n",
       "254169                37.828410              -122.266315           176.0   \n",
       "446642                37.795392              -122.394203            49.0   \n",
       "1733023               37.788975              -122.403452           133.0   \n",
       "961684                37.860125              -122.269384           274.0   \n",
       "649397                37.743684              -122.426806            21.0   \n",
       "545230                37.812331              -122.285171           160.0   \n",
       "674907                37.756708              -122.421025            58.0   \n",
       "468636                37.867789              -122.265896           239.0   \n",
       "\n",
       "                                          end_station_name  \\\n",
       "1744899  San Francisco Ferry Building (Harry Bridges Pl...   \n",
       "146113                              MacArthur BART Station   \n",
       "254169                              MacArthur BART Station   \n",
       "446642                                 S Park St at 3rd St   \n",
       "1733023                             Valencia St at 22nd St   \n",
       "961684                             Oregon St at Adeline St   \n",
       "649397    Montgomery St BART Station (Market St at 2nd St)   \n",
       "545230                           West Oakland BART Station   \n",
       "674907                                Market St at 10th St   \n",
       "468636                       Bancroft Way at Telegraph Ave   \n",
       "\n",
       "         end_station_latitude  end_station_longitude  bike_id   user_type  \\\n",
       "1744899             37.795392            -122.394203     5561  Subscriber   \n",
       "146113              37.828410            -122.266315     1037    Customer   \n",
       "254169              37.828410            -122.266315      300    Customer   \n",
       "446642              37.780760            -122.394989      526  Subscriber   \n",
       "1733023             37.755213            -122.420975     4744  Subscriber   \n",
       "961684              37.857567            -122.267558     1512  Subscriber   \n",
       "649397              37.789625            -122.400811     2929  Subscriber   \n",
       "545230              37.805318            -122.294837      167  Subscriber   \n",
       "674907              37.776619            -122.417385     2728  Subscriber   \n",
       "468636              37.868813            -122.258764      425  Subscriber   \n",
       "\n",
       "        bike_share_for_all_trip  \n",
       "1744899                      No  \n",
       "146113                       No  \n",
       "254169                       No  \n",
       "446642                       No  \n",
       "1733023                      No  \n",
       "961684                       No  \n",
       "649397                       No  \n",
       "545230                       No  \n",
       "674907                       No  \n",
       "468636                       No  "
      ]
     },
     "execution_count": 38,
     "metadata": {},
     "output_type": "execute_result"
    }
   ],
   "source": [
    "#Checking data\n",
    "master.sample(10)"
   ]
  },
  {
   "cell_type": "code",
   "execution_count": 39,
   "metadata": {
    "scrolled": true,
    "slideshow": {
     "slide_type": "skip"
    }
   },
   "outputs": [
    {
     "name": "stdout",
     "output_type": "stream",
     "text": [
      "<class 'pandas.core.frame.DataFrame'>\n",
      "RangeIndex: 1863721 entries, 0 to 1863720\n",
      "Data columns (total 14 columns):\n",
      " #   Column                   Non-Null Count    Dtype  \n",
      "---  ------                   --------------    -----  \n",
      " 0   duration_sec             1863721 non-null  int64  \n",
      " 1   start_time               1863721 non-null  object \n",
      " 2   end_time                 1863721 non-null  object \n",
      " 3   start_station_id         1851950 non-null  float64\n",
      " 4   start_station_name       1851950 non-null  object \n",
      " 5   start_station_latitude   1863721 non-null  float64\n",
      " 6   start_station_longitude  1863721 non-null  float64\n",
      " 7   end_station_id           1851950 non-null  float64\n",
      " 8   end_station_name         1851950 non-null  object \n",
      " 9   end_station_latitude     1863721 non-null  float64\n",
      " 10  end_station_longitude    1863721 non-null  float64\n",
      " 11  bike_id                  1863721 non-null  int64  \n",
      " 12  user_type                1863721 non-null  object \n",
      " 13  bike_share_for_all_trip  1863721 non-null  object \n",
      "dtypes: float64(6), int64(2), object(6)\n",
      "memory usage: 199.1+ MB\n"
     ]
    }
   ],
   "source": [
    "#Snapshot of data information\n",
    "master.info(null_counts = True)"
   ]
  },
  {
   "cell_type": "code",
   "execution_count": 41,
   "metadata": {
    "slideshow": {
     "slide_type": "skip"
    }
   },
   "outputs": [
    {
     "data": {
      "text/plain": [
       "0"
      ]
     },
     "execution_count": 41,
     "metadata": {},
     "output_type": "execute_result"
    }
   ],
   "source": [
    "#checking is there any duplicate file existed\n",
    "master.duplicated().sum()"
   ]
  },
  {
   "cell_type": "markdown",
   "metadata": {
    "slideshow": {
     "slide_type": "skip"
    }
   },
   "source": [
    "#### Quality and tidiness Issue\n",
    " \n",
    " * start time and end time are objects not a timestamps\n",
    " \n",
    " * user type and bike_share_for_all_trip can be set to category\n",
    " \n",
    " * bike id, start_station_id, end_station_id can be set to object\n",
    " \n",
    " * There are missing values throughout the dataset (start_station_id, start_station_name, end_station_id, end_station_name)\n",
    " \n",
    " * we can further enhance the dataset with more details about the time like month, day, hour, weekday\n",
    " \n",
    " * we can calculate the distance for rides between stations\n",
    " "
   ]
  },
  {
   "cell_type": "markdown",
   "metadata": {
    "slideshow": {
     "slide_type": "skip"
    }
   },
   "source": [
    "<a id='Cleaning Data'></a>\n",
    "# 3. Cleaning Data"
   ]
  },
  {
   "cell_type": "code",
   "execution_count": 42,
   "metadata": {
    "slideshow": {
     "slide_type": "skip"
    }
   },
   "outputs": [],
   "source": [
    "#creating copy of original master dataset\n",
    "df_clean = master.copy()"
   ]
  },
  {
   "cell_type": "markdown",
   "metadata": {
    "slideshow": {
     "slide_type": "skip"
    }
   },
   "source": [
    "##### Set dates to timestamps"
   ]
  },
  {
   "cell_type": "code",
   "execution_count": 43,
   "metadata": {
    "slideshow": {
     "slide_type": "skip"
    }
   },
   "outputs": [],
   "source": [
    "# set dates to timestamps\n",
    "df_clean.start_time = pd.to_datetime(df_clean.start_time)\n",
    "df_clean.end_time = pd.to_datetime(df_clean.end_time)"
   ]
  },
  {
   "cell_type": "markdown",
   "metadata": {
    "slideshow": {
     "slide_type": "skip"
    }
   },
   "source": [
    "##### Set user type and bike_share_for_all_trip to category"
   ]
  },
  {
   "cell_type": "code",
   "execution_count": 44,
   "metadata": {
    "slideshow": {
     "slide_type": "skip"
    }
   },
   "outputs": [],
   "source": [
    "# set user type and bike_share_for_all_trip to category\n",
    "df_clean.user_type = df_clean.user_type.astype('category')\n",
    "df_clean.bike_share_for_all_trip = df_clean.bike_share_for_all_trip.astype('category')"
   ]
  },
  {
   "cell_type": "markdown",
   "metadata": {
    "slideshow": {
     "slide_type": "skip"
    }
   },
   "source": [
    "##### Set bike id, start_station_id, end_station_id to object"
   ]
  },
  {
   "cell_type": "code",
   "execution_count": 45,
   "metadata": {
    "slideshow": {
     "slide_type": "skip"
    }
   },
   "outputs": [],
   "source": [
    "# set bike id, start_station_id, end_station_id to object\n",
    "df_clean.bike_id = df_clean.bike_id.astype(str)\n",
    "df_clean.start_station_id = df_clean.bike_id.astype(str)\n",
    "df_clean.end_station_id = df_clean.bike_id.astype(str)"
   ]
  },
  {
   "cell_type": "code",
   "execution_count": 46,
   "metadata": {
    "slideshow": {
     "slide_type": "skip"
    }
   },
   "outputs": [
    {
     "name": "stdout",
     "output_type": "stream",
     "text": [
      "<class 'pandas.core.frame.DataFrame'>\n",
      "RangeIndex: 1863721 entries, 0 to 1863720\n",
      "Data columns (total 14 columns):\n",
      " #   Column                   Non-Null Count    Dtype         \n",
      "---  ------                   --------------    -----         \n",
      " 0   duration_sec             1863721 non-null  int64         \n",
      " 1   start_time               1863721 non-null  datetime64[ns]\n",
      " 2   end_time                 1863721 non-null  datetime64[ns]\n",
      " 3   start_station_id         1863721 non-null  object        \n",
      " 4   start_station_name       1851950 non-null  object        \n",
      " 5   start_station_latitude   1863721 non-null  float64       \n",
      " 6   start_station_longitude  1863721 non-null  float64       \n",
      " 7   end_station_id           1863721 non-null  object        \n",
      " 8   end_station_name         1851950 non-null  object        \n",
      " 9   end_station_latitude     1863721 non-null  float64       \n",
      " 10  end_station_longitude    1863721 non-null  float64       \n",
      " 11  bike_id                  1863721 non-null  object        \n",
      " 12  user_type                1863721 non-null  category      \n",
      " 13  bike_share_for_all_trip  1863721 non-null  category      \n",
      "dtypes: category(2), datetime64[ns](2), float64(4), int64(1), object(5)\n",
      "memory usage: 174.2+ MB\n"
     ]
    }
   ],
   "source": [
    "#test\n",
    "df_clean.info(null_counts = True)"
   ]
  },
  {
   "cell_type": "markdown",
   "metadata": {
    "slideshow": {
     "slide_type": "skip"
    }
   },
   "source": [
    "##### Adding columns for the start month, day of the week, and hour, along with figuring out the trip duration in minutes, for my visuals"
   ]
  },
  {
   "cell_type": "code",
   "execution_count": 48,
   "metadata": {
    "slideshow": {
     "slide_type": "skip"
    }
   },
   "outputs": [],
   "source": [
    "# Start time month (January - December)\n",
    "df_clean['start_time_month'] = df_clean['start_time'].dt.strftime('%B')"
   ]
  },
  {
   "cell_type": "code",
   "execution_count": 50,
   "metadata": {
    "slideshow": {
     "slide_type": "skip"
    }
   },
   "outputs": [],
   "source": [
    "# Start time month (1-12)\n",
    "df_clean['start_time_month_num'] = df_clean['start_time'].dt.month.astype(int)"
   ]
  },
  {
   "cell_type": "code",
   "execution_count": 51,
   "metadata": {
    "slideshow": {
     "slide_type": "skip"
    }
   },
   "outputs": [],
   "source": [
    "# Start time weekday\n",
    "df_clean['start_time_weekday'] = df_clean['start_time'].dt.strftime('%a')"
   ]
  },
  {
   "cell_type": "code",
   "execution_count": 52,
   "metadata": {
    "slideshow": {
     "slide_type": "skip"
    }
   },
   "outputs": [],
   "source": [
    "# Start and end time hour\n",
    "df_clean['start_time_hour'] = df_clean['start_time'].dt.hour\n",
    "df_clean['end_time_hour'] = df_clean['end_time'].dt.hour"
   ]
  },
  {
   "cell_type": "code",
   "execution_count": 53,
   "metadata": {
    "slideshow": {
     "slide_type": "skip"
    }
   },
   "outputs": [],
   "source": [
    "# Duration in seconds to duration in minutes\n",
    "df_clean['duration_min'] = df_clean['duration_sec']/60\n",
    "df_clean['duration_min'] = df_clean['duration_min'].astype(int)"
   ]
  },
  {
   "cell_type": "code",
   "execution_count": 64,
   "metadata": {
    "slideshow": {
     "slide_type": "skip"
    }
   },
   "outputs": [
    {
     "name": "stdout",
     "output_type": "stream",
     "text": [
      "<class 'pandas.core.frame.DataFrame'>\n",
      "RangeIndex: 1863721 entries, 0 to 1863720\n",
      "Data columns (total 20 columns):\n",
      " #   Column                   Non-Null Count    Dtype         \n",
      "---  ------                   --------------    -----         \n",
      " 0   duration_sec             1863721 non-null  int64         \n",
      " 1   start_time               1863721 non-null  datetime64[ns]\n",
      " 2   end_time                 1863721 non-null  datetime64[ns]\n",
      " 3   start_station_id         1863721 non-null  object        \n",
      " 4   start_station_name       1851950 non-null  object        \n",
      " 5   start_station_latitude   1863721 non-null  float64       \n",
      " 6   start_station_longitude  1863721 non-null  float64       \n",
      " 7   end_station_id           1863721 non-null  object        \n",
      " 8   end_station_name         1851950 non-null  object        \n",
      " 9   end_station_latitude     1863721 non-null  float64       \n",
      " 10  end_station_longitude    1863721 non-null  float64       \n",
      " 11  bike_id                  1863721 non-null  object        \n",
      " 12  user_type                1863721 non-null  category      \n",
      " 13  bike_share_for_all_trip  1863721 non-null  category      \n",
      " 14  start_time_month         1863721 non-null  object        \n",
      " 15  start_time_month_num     1863721 non-null  int32         \n",
      " 16  start_time_weekday       1863721 non-null  object        \n",
      " 17  start_time_hour          1863721 non-null  int64         \n",
      " 18  end_time_hour            1863721 non-null  int64         \n",
      " 19  duration_min             1863721 non-null  int32         \n",
      "dtypes: category(2), datetime64[ns](2), float64(4), int32(2), int64(3), object(7)\n",
      "memory usage: 245.3+ MB\n"
     ]
    }
   ],
   "source": [
    "df_clean.info(null_counts = True)"
   ]
  },
  {
   "cell_type": "markdown",
   "metadata": {
    "slideshow": {
     "slide_type": "skip"
    }
   },
   "source": [
    "##### Calculating the total distance traveled using the latitude and longitude in the data set."
   ]
  },
  {
   "cell_type": "code",
   "execution_count": 65,
   "metadata": {
    "slideshow": {
     "slide_type": "skip"
    }
   },
   "outputs": [],
   "source": [
    "import math\n",
    "from math import radians, sin, cos, acos\n",
    "\n",
    "def distance(origin, destination):\n",
    "\n",
    "    lat1, long1 = origin\n",
    "    lat2, long2 = destination\n",
    "    radius = 6371 #Earth Radius\n",
    "   \n",
    "\n",
    "    dlat = math.radians(lat2 - lat1)\n",
    "    dlong = math.radians(long2 - long1)\n",
    "    \n",
    "    a = (math.sin(dlat / 2) * math.sin(dlat / 2) + math.cos(math.radians(lat1)) * math.cos(math.radians(lat2)) * math.sin(dlong / 2) * math.sin(dlong / 2))\n",
    "    c = 2 * math.atan2(math.sqrt(a), math.sqrt(1 - a))\n",
    "    d = radius * c\n",
    "\n",
    "    return d"
   ]
  },
  {
   "cell_type": "code",
   "execution_count": 68,
   "metadata": {
    "slideshow": {
     "slide_type": "skip"
    }
   },
   "outputs": [],
   "source": [
    "#Adding new column distance_km\n",
    "df_clean['distance_km'] = df_clean.apply(lambda x: distance((x['start_station_latitude'], x['start_station_longitude']), (x['end_station_latitude'], x['end_station_longitude'])), axis=1)"
   ]
  },
  {
   "cell_type": "code",
   "execution_count": 69,
   "metadata": {
    "slideshow": {
     "slide_type": "skip"
    }
   },
   "outputs": [],
   "source": [
    "# Converting the kilometers to miles\n",
    "df_clean['distance_miles'] = df_clean['distance_km'] * 0.621371"
   ]
  },
  {
   "cell_type": "code",
   "execution_count": 74,
   "metadata": {
    "slideshow": {
     "slide_type": "skip"
    }
   },
   "outputs": [
    {
     "data": {
      "text/html": [
       "<div>\n",
       "<style scoped>\n",
       "    .dataframe tbody tr th:only-of-type {\n",
       "        vertical-align: middle;\n",
       "    }\n",
       "\n",
       "    .dataframe tbody tr th {\n",
       "        vertical-align: top;\n",
       "    }\n",
       "\n",
       "    .dataframe thead th {\n",
       "        text-align: right;\n",
       "    }\n",
       "</style>\n",
       "<table border=\"1\" class=\"dataframe\">\n",
       "  <thead>\n",
       "    <tr style=\"text-align: right;\">\n",
       "      <th></th>\n",
       "      <th>duration_sec</th>\n",
       "      <th>start_time</th>\n",
       "      <th>end_time</th>\n",
       "      <th>start_station_id</th>\n",
       "      <th>start_station_name</th>\n",
       "      <th>start_station_latitude</th>\n",
       "      <th>start_station_longitude</th>\n",
       "      <th>end_station_id</th>\n",
       "      <th>end_station_name</th>\n",
       "      <th>end_station_latitude</th>\n",
       "      <th>...</th>\n",
       "      <th>user_type</th>\n",
       "      <th>bike_share_for_all_trip</th>\n",
       "      <th>start_time_month</th>\n",
       "      <th>start_time_month_num</th>\n",
       "      <th>start_time_weekday</th>\n",
       "      <th>start_time_hour</th>\n",
       "      <th>end_time_hour</th>\n",
       "      <th>duration_min</th>\n",
       "      <th>distance_km</th>\n",
       "      <th>distance_miles</th>\n",
       "    </tr>\n",
       "  </thead>\n",
       "  <tbody>\n",
       "    <tr>\n",
       "      <th>332091</th>\n",
       "      <td>652</td>\n",
       "      <td>2018-04-26 21:42:01.503</td>\n",
       "      <td>2018-04-26 21:52:54.471</td>\n",
       "      <td>1675</td>\n",
       "      <td>Ryland Park</td>\n",
       "      <td>37.342725</td>\n",
       "      <td>-121.895617</td>\n",
       "      <td>1675</td>\n",
       "      <td>San Salvador St at 9th St</td>\n",
       "      <td>37.333955</td>\n",
       "      <td>...</td>\n",
       "      <td>Subscriber</td>\n",
       "      <td>Yes</td>\n",
       "      <td>April</td>\n",
       "      <td>4</td>\n",
       "      <td>Thu</td>\n",
       "      <td>21</td>\n",
       "      <td>21</td>\n",
       "      <td>10</td>\n",
       "      <td>1.886608</td>\n",
       "      <td>1.172284</td>\n",
       "    </tr>\n",
       "    <tr>\n",
       "      <th>383999</th>\n",
       "      <td>428</td>\n",
       "      <td>2018-04-16 11:43:42.202</td>\n",
       "      <td>2018-04-16 11:50:50.503</td>\n",
       "      <td>1161</td>\n",
       "      <td>Market St at Franklin St</td>\n",
       "      <td>37.773793</td>\n",
       "      <td>-122.421239</td>\n",
       "      <td>1161</td>\n",
       "      <td>16th St Mission BART Station 2</td>\n",
       "      <td>37.764765</td>\n",
       "      <td>...</td>\n",
       "      <td>Subscriber</td>\n",
       "      <td>Yes</td>\n",
       "      <td>April</td>\n",
       "      <td>4</td>\n",
       "      <td>Mon</td>\n",
       "      <td>11</td>\n",
       "      <td>11</td>\n",
       "      <td>7</td>\n",
       "      <td>1.008925</td>\n",
       "      <td>0.626917</td>\n",
       "    </tr>\n",
       "  </tbody>\n",
       "</table>\n",
       "<p>2 rows × 22 columns</p>\n",
       "</div>"
      ],
      "text/plain": [
       "        duration_sec              start_time                end_time  \\\n",
       "332091           652 2018-04-26 21:42:01.503 2018-04-26 21:52:54.471   \n",
       "383999           428 2018-04-16 11:43:42.202 2018-04-16 11:50:50.503   \n",
       "\n",
       "       start_station_id        start_station_name  start_station_latitude  \\\n",
       "332091             1675               Ryland Park               37.342725   \n",
       "383999             1161  Market St at Franklin St               37.773793   \n",
       "\n",
       "        start_station_longitude end_station_id  \\\n",
       "332091              -121.895617           1675   \n",
       "383999              -122.421239           1161   \n",
       "\n",
       "                      end_station_name  end_station_latitude  ...   user_type  \\\n",
       "332091       San Salvador St at 9th St             37.333955  ...  Subscriber   \n",
       "383999  16th St Mission BART Station 2             37.764765  ...  Subscriber   \n",
       "\n",
       "       bike_share_for_all_trip start_time_month start_time_month_num  \\\n",
       "332091                     Yes            April                    4   \n",
       "383999                     Yes            April                    4   \n",
       "\n",
       "       start_time_weekday  start_time_hour end_time_hour  duration_min  \\\n",
       "332091                Thu               21            21            10   \n",
       "383999                Mon               11            11             7   \n",
       "\n",
       "        distance_km  distance_miles  \n",
       "332091     1.886608        1.172284  \n",
       "383999     1.008925        0.626917  \n",
       "\n",
       "[2 rows x 22 columns]"
      ]
     },
     "execution_count": 74,
     "metadata": {},
     "output_type": "execute_result"
    }
   ],
   "source": [
    "df_clean.sample(2)"
   ]
  },
  {
   "cell_type": "code",
   "execution_count": 76,
   "metadata": {
    "slideshow": {
     "slide_type": "skip"
    }
   },
   "outputs": [],
   "source": [
    "df_clean.to_csv('fordgo_cleaned.csv', index = False)"
   ]
  },
  {
   "cell_type": "markdown",
   "metadata": {
    "slideshow": {
     "slide_type": "subslide"
    }
   },
   "source": [
    "##### Dataset Structure\n",
    "\n",
    "\n",
    "Originally there were approx. 186,3721 bike rides that happen in 2018 the San Francisco Bay area of California, USA documented.\n",
    "This notebook uses data collected from January 2018 through December 2018.\n",
    "The column header descriptions are as follows:\n",
    "* trip duration: start/end time, how long the trip took in seconds\n",
    "* stations: start/end station, name, geolocation (latitude/longitude)\n",
    "* anonymized customer data: user type\n",
    "* rented bikes: bike id\n",
    "\n",
    "**Following Columns are added during cleaning process**\n",
    "* Start Time Month\n",
    "* Start Time Month Number\n",
    "* Start Time Day of the Week\n",
    "* Start Time Hour\n",
    "* Distance (km)\n",
    "* Distance (miles)\n",
    "\n",
    "\n",
    "\n",
    "**What are the main features of interest in your dataset?**\n",
    "* The main features include data related to the start and end of a ride. This can be used to calculate when bikes are in high or low demand.\n",
    "* These features can be used to make business decisions such as which age group to target in marketing campaigns, or which day of the week bikes should be most available.\n",
    "\n",
    "**What features in the dataset will help support your investigation into your features of interest?**\n",
    "* The start and end times, and related time-based information will be utilized heavily. I will use the customer related data, as well as the distance to understand the user-driven data behind each ride."
   ]
  },
  {
   "cell_type": "markdown",
   "metadata": {},
   "source": [
    "<a id='Univariate Exploration'></a>\n",
    "\n",
    "## A) Univariate Exploration\n",
    "> In this section, I investigate distributions of individual variables."
   ]
  },
  {
   "cell_type": "code",
   "execution_count": 80,
   "metadata": {
    "slideshow": {
     "slide_type": "slide"
    }
   },
   "outputs": [
    {
     "data": {
      "image/png": "[encoded data removed]",
      "text/plain": [
       "<Figure size 612x360 with 1 Axes>"
      ]
     },
     "metadata": {
      "needs_background": "light"
     },
     "output_type": "display_data"
    }
   ],
   "source": [
    "# Monthly usage of the Ford Go Bike system\n",
    "\n",
    "no_color = sns.color_palette()[0]\n",
    "graph = sns.catplot(data = df_clean, x = 'start_time_month', kind = 'count', color = no_color, aspect = 1.7);\n",
    "graph.set_axis_labels('Month', 'Number of Bike Trips'),\n",
    "graph.fig.suptitle('Ford GoBike Usage by Month', y = 1.05, fontsize = 16, fontweight = 'bold');\n",
    "graph.set_xticklabels(rotation=75);"
   ]
  },
  {
   "cell_type": "markdown",
   "metadata": {
    "slideshow": {
     "slide_type": "subslide"
    }
   },
   "source": [
    "> **Observation:** The most popular times to use the Ford Go Bike sharing system is Summer season from June to October. October is most popular month followed by july. And in Winter season the use of Ford Go Bike sharing system is decreased."
   ]
  },
  {
   "cell_type": "code",
   "execution_count": 82,
   "metadata": {
    "slideshow": {
     "slide_type": "slide"
    }
   },
   "outputs": [
    {
     "data": {
      "image/png": "[encoded data removed]",
      "text/plain": [
       "<Figure size 360x360 with 1 Axes>"
      ]
     },
     "metadata": {
      "needs_background": "light"
     },
     "output_type": "display_data"
    }
   ],
   "source": [
    "# Weekly usage of the Ford Go bike system\n",
    "\n",
    "weekday = ['Mon', 'Tue', 'Wed', 'Thu', 'Fri', 'Sat', 'Sun']\n",
    "graph = sns.catplot(data=df_clean, x='start_time_weekday', kind='count', color = no_color, order = weekday)\n",
    "graph.set_axis_labels('Weekdays', 'Number of Bike Trips')\n",
    "graph.fig.suptitle('Ford GoBike Usage by Weekday', y=1.05, fontsize=16, fontweight='bold');\n",
    "graph.set_xticklabels(rotation=90);"
   ]
  },
  {
   "cell_type": "markdown",
   "metadata": {
    "slideshow": {
     "slide_type": "subslide"
    }
   },
   "source": [
    "> **Observation:** Tuesdays followed by Wednesdays and Thursday seem to be the most popular days for using the bike sharing system. Sunday is least popular days in the week, we can conclude that, Ford bike share system is used primarily for commuting purposes during working days."
   ]
  },
  {
   "cell_type": "code",
   "execution_count": 84,
   "metadata": {
    "slideshow": {
     "slide_type": "slide"
    }
   },
   "outputs": [
    {
     "data": {
      "image/png": "[encoded data removed]",
      "text/plain": [
       "<Figure size 612x360 with 1 Axes>"
      ]
     },
     "metadata": {
      "needs_background": "light"
     },
     "output_type": "display_data"
    }
   ],
   "source": [
    "# Hourly usage of the Ford Go Bike System\n",
    "\n",
    "graph = sns.catplot(data = df_cleaned, x='start_time_hour', kind='count', color = no_color, aspect = 1.7)\n",
    "graph.set_axis_labels('Hours', 'Number of Bike Rides')\n",
    "graph.fig.suptitle('Ford GoBike System Usage by Hour', y=1.05, fontsize=16, fontweight='bold');"
   ]
  },
  {
   "cell_type": "markdown",
   "metadata": {
    "slideshow": {
     "slide_type": "subslide"
    }
   },
   "source": [
    "> **Observation:** This Observation also shows that the use of Ford go bike is used only in working hours.The distribution is bimodal,here we can se that he pick time for using Ford Go Bike is between 8-9 AM and 5-6 PM."
   ]
  },
  {
   "cell_type": "markdown",
   "metadata": {},
   "source": [
    "<a id='Bivariate Exploration'></a>\n",
    "\n",
    "## B) Bivariate Exploration"
   ]
  },
  {
   "cell_type": "code",
   "execution_count": 85,
   "metadata": {},
   "outputs": [],
   "source": [
    "# calculating % split for the user type\n",
    "customer = df_clean.query('user_type == \"Customer\"')['bike_id'].count()\n",
    "subscriber = df_clean.query('user_type == \"Subscriber\"')['bike_id'].count()\n",
    "\n",
    "customer_proportion = customer / df_clean['bike_id'].count()\n",
    "subscriber_proportion = subscriber / df_clean['bike_id'].count()"
   ]
  },
  {
   "cell_type": "code",
   "execution_count": 94,
   "metadata": {
    "slideshow": {
     "slide_type": "slide"
    }
   },
   "outputs": [
    {
     "data": {
      "image/png": "[encoded data removed]",
      "text/plain": [
       "<Figure size 720x360 with 2 Axes>"
      ]
     },
     "metadata": {
      "needs_background": "light"
     },
     "output_type": "display_data"
    }
   ],
   "source": [
    "plt.figure(figsize = [10, 5])\n",
    "\n",
    "# code for the bar chart\n",
    "plt.subplot(1, 2, 1)\n",
    "\n",
    "g = sns.countplot(data=df_clean, x=\"user_type\", order=df_clean.user_type.value_counts().index)\n",
    "g.set_xlabel('User Type')\n",
    "g.set_ylabel('Bike Trips')\n",
    "\n",
    "# code for the pie chart\n",
    "plt.subplot(1, 2, 2)\n",
    "\n",
    "labels = ['Customer', 'Subscriber']\n",
    "sizes = [customer_proportion, subscriber_proportion]\n",
    "colors = ['pink', 'skyblue']\n",
    "explode = (0, 0.1)\n",
    "\n",
    "plt.pie(sizes, explode=explode, labels=labels, colors = colors,\n",
    "        autopct='%1.1f%%', shadow=False, startangle=90)\n",
    "plt.axis('equal')\n",
    "\n",
    "plt.suptitle('User type for GoBike sharing system', y=1.03, fontsize=14, fontweight='bold');"
   ]
  },
  {
   "cell_type": "markdown",
   "metadata": {
    "slideshow": {
     "slide_type": "subslide"
    }
   },
   "source": [
    "> **Observation:** The bike sharing system is mainly used by subscribers (85%) than ocassional riders (15%)."
   ]
  },
  {
   "cell_type": "code",
   "execution_count": 97,
   "metadata": {
    "slideshow": {
     "slide_type": "slide"
    }
   },
   "outputs": [
    {
     "data": {
      "image/png": "[encoded data removed]",
      "text/plain": [
       "<Figure size 720x360 with 2 Axes>"
      ]
     },
     "metadata": {
      "needs_background": "light"
     },
     "output_type": "display_data"
    }
   ],
   "source": [
    "# monthly usege of the bike sharing system by user type\n",
    "g = sns.catplot(data=df_clean, x='start_time_month', col=\"user_type\", kind='count', sharey = False,\n",
    "            color = no_color)\n",
    "g.set_axis_labels(\"Month\", \"Bike Trips\")\n",
    "g.set_titles(\"{col_name}\")\n",
    "g.fig.suptitle('Monthly usage of the bike share system per user type', y=1.03, fontsize=14, fontweight='semibold');\n",
    "g.set_xticklabels(rotation=90);"
   ]
  },
  {
   "cell_type": "markdown",
   "metadata": {
    "slideshow": {
     "slide_type": "subslide"
    }
   },
   "source": [
    "**Observation:**\n",
    "\n",
    "> Winter months are the worst for the bike sharing system for both groups what can be determined by the harsher weather.\n",
    "\n",
    ">For **Customers**, the bike renting is high in demand around summertime, reaching its peak in July. Customers are most probably occasional reiders or tourist coming to visit the Bay Area. For **Subscribers**, the highest demand is from May till October, reaching it's peak in October. Customers are most probably regular riders using bikes for a daily commute.\n",
    "\n",
    ">If we see overall senerio then we can see that from May to October average demand is equal for both Customers and subscribers."
   ]
  },
  {
   "cell_type": "code",
   "execution_count": 99,
   "metadata": {
    "slideshow": {
     "slide_type": "slide"
    }
   },
   "outputs": [
    {
     "data": {
      "image/png": "[encoded data removed]",
      "text/plain": [
       "<Figure size 720x360 with 2 Axes>"
      ]
     },
     "metadata": {
      "needs_background": "light"
     },
     "output_type": "display_data"
    }
   ],
   "source": [
    "# weekday usege of the bike sharing system per user type\n",
    "weekday = ['Mon', 'Tue', 'Wed', 'Thu', 'Fri', 'Sat', 'Sun']\n",
    "g = sns.catplot(data=df_clean, x='start_time_weekday', col=\"user_type\", kind='count', sharey = False,\n",
    "            color = no_color, order = weekday)\n",
    "g.set_axis_labels(\"Weekday\", \"#Bike Trips\")\n",
    "g.set_titles(\"{col_name}\")\n",
    "g.fig.suptitle('Weekly usage of the bike share system per user type', y=1.03, fontsize=14, fontweight='semibold');"
   ]
  },
  {
   "cell_type": "markdown",
   "metadata": {
    "slideshow": {
     "slide_type": "subslide"
    }
   },
   "source": [
    "**Observation:** >There is totally a different trend in Customer and Subscriber in weekdays.As mentioned above customers are most probably occasional riders and tourist who use the bike sharing system on holiday or weekend trips. On the other hand, subscribers are most probably daily work/school commuters who use the system within a week."
   ]
  },
  {
   "cell_type": "code",
   "execution_count": 102,
   "metadata": {
    "slideshow": {
     "slide_type": "slide"
    }
   },
   "outputs": [
    {
     "data": {
      "image/png": "[encoded data removed]",
      "text/plain": [
       "<Figure size 720x360 with 2 Axes>"
      ]
     },
     "metadata": {
      "needs_background": "light"
     },
     "output_type": "display_data"
    }
   ],
   "source": [
    "# hourly usege of the bike sharing system per user type\n",
    "g = sns.catplot(data=df_clean, x='start_time_hour', col=\"user_type\", kind='count', sharey = False,color = no_color)\n",
    "g.set_axis_labels(\"Hour\", \"Bike Trips\")\n",
    "g.set_titles(\"{col_name}\")\n",
    "g.fig.suptitle('Hourly usage of the bike share system by user type', y=1.03, fontsize=14, fontweight='semibold');"
   ]
  },
  {
   "cell_type": "markdown",
   "metadata": {
    "slideshow": {
     "slide_type": "subslide"
    }
   },
   "source": [
    "**Observation:** There is a different trend between customers and subscribers, here we can see that the **Customers** use bikes from 7AM to 8PM but mainly active between 4-6PM. but the **Subscribers** mainly use bike between 7-9AM and then between 4-6PM."
   ]
  },
  {
   "cell_type": "markdown",
   "metadata": {},
   "source": [
    "<a id='Multivariate Exploration'></a>\n",
    "## C) Multivariate Exploration"
   ]
  },
  {
   "cell_type": "code",
   "execution_count": 110,
   "metadata": {
    "slideshow": {
     "slide_type": "slide"
    }
   },
   "outputs": [
    {
     "data": {
      "image/png": "[encoded data removed]",
      "text/plain": [
       "<Figure size 648x576 with 4 Axes>"
      ]
     },
     "metadata": {
      "needs_background": "light"
     },
     "output_type": "display_data"
    }
   ],
   "source": [
    "# Weekday order\n",
    "df_clean['start_time_weekday'] = pd.Categorical(df_clean['start_time_weekday'], \n",
    "                                                categories=['Mon','Tue','Wed','Thu','Fri','Sat', 'Sun'], \n",
    "                                                ordered=True)\n",
    "plt.figure(figsize=(9,8))\n",
    "plt.suptitle('Hourly usage during the weekday for customers and subscribers', fontsize=14, fontweight='semibold')\n",
    "\n",
    "# heatmap for customers\n",
    "plt.subplot(1, 2, 1)\n",
    "df_customer = df_clean.query('user_type == \"Customer\"').groupby([\"start_time_hour\", \"start_time_weekday\"])[\"bike_id\"].size().reset_index()\n",
    "df_customer = df_customer.pivot(\"start_time_hour\", \"start_time_weekday\", \"bike_id\")\n",
    "sns.heatmap(df_customer, cmap=\"BuPu\")\n",
    "\n",
    "plt.title(\"Customer\", y=1.015)\n",
    "plt.xlabel('Weekday')\n",
    "plt.ylabel('Start Time Hour')\n",
    "\n",
    "# heatmap for subscribers\n",
    "plt.subplot(1, 2, 2)\n",
    "df_subscriber = df_clean.query('user_type == \"Subscriber\"').groupby([\"start_time_hour\", \"start_time_weekday\"])[\"bike_id\"].size().reset_index()\n",
    "df_subscriber = df_subscriber.pivot(\"start_time_hour\", \"start_time_weekday\", \"bike_id\")\n",
    "sns.heatmap(df_subscriber, cmap=\"BuPu\")\n",
    "\n",
    "plt.title(\"Subscriber\", y=1.015)\n",
    "plt.xlabel('Weekday')\n",
    "plt.ylabel('');"
   ]
  },
  {
   "cell_type": "markdown",
   "metadata": {
    "slideshow": {
     "slide_type": "subslide"
    }
   },
   "source": [
    "**Observation**\n",
    "\n",
    "\n",
    "**Customers use the bike sharing system more often on weekends:**\n",
    "* weekdays: most bike rides hapen around 8-9am and 5-6pm with the peak on Fridays around 5pm\n",
    "* weekends: most bike rides happen between 10am - 8pm with the peak on Saturdays around 2pm\n",
    "\n",
    "\n",
    "**Subscribers use the bike sharing system mainly on weekdays:**\n",
    "* weekdays: most bike rides hapen around 8-9am and 5-6pm with the peak on Tuesdays around 8am\n",
    "* weekends: bikes are still rented but there is a significant drop in numbers of rented bikes throughout the entire weekends"
   ]
  },
  {
   "cell_type": "markdown",
   "metadata": {
    "slideshow": {
     "slide_type": "slide"
    }
   },
   "source": [
    "<a id='Conclusions'></a>\n",
    "# Conclusion"
   ]
  },
  {
   "cell_type": "markdown",
   "metadata": {
    "slideshow": {
     "slide_type": "subslide"
    }
   },
   "source": [
    "There are two types of clients using the system: Subscribers and Customers. Subscribers are primarily daily commuters, having short trips to and from work, who rent a bike on weekdays at 8-9am and 5-6pm, and, occasionally around lunch time. Customers are usually tourists or occassional riders who use the system mainly on weekends to explore the Bay Area.\n",
    "\n",
    "Renting a bike from theFord GoBike System is a fantastic (healthy and environmentally friendly) way of moving around in the city, both for enjoyment and work. \n",
    "\n",
    "**Benefits:**\n",
    "\n",
    "* Environmentally friendly, budget friendly, and lifetsyle friendly.\n",
    "* Subscribers (i.e. daily commuters) benefit from a health commuting choice\n",
    "* Customers (i.e. tourists, students, etc.) have a sustainable, yet flexible option for touring the city.\n",
    "* Affordable and convenient transportation for the people of all socioeconomic classes"
   ]
  },
  {
   "cell_type": "markdown",
   "metadata": {
    "slideshow": {
     "slide_type": "skip"
    }
   },
   "source": [
    "> **After doing my Primary data gathering and Cleaning  , I find that in my dataset their is some missing information like User_AGE, User_Gender etc**\n",
    "> **Then i cross examine and get , the updated dataset doesn't consists of age or gender**"
   ]
  }
 ],
 "metadata": {
  "celltoolbar": "Slideshow",
  "kernelspec": {
   "display_name": "Python 3",
   "language": "python",
   "name": "python3"
  },
  "language_info": {
   "codemirror_mode": {
    "name": "ipython",
    "version": 3
   },
   "file_extension": ".py",
   "mimetype": "text/x-python",
   "name": "python",
   "nbconvert_exporter": "python",
   "pygments_lexer": "ipython3",
   "version": "3.7.3"
  }
 },
 "nbformat": 4,
 "nbformat_minor": 4
}
